{
 "cells": [
  {
   "cell_type": "markdown",
   "id": "d2a78a2a-890a-4ff6-b3e6-4bccb511e1bf",
   "metadata": {},
   "source": [
    "# Neural Networks to Classify Images"
   ]
  },
  {
   "cell_type": "code",
   "execution_count": 12,
   "id": "41cc5eff-6580-44b3-a750-057845d58fe3",
   "metadata": {},
   "outputs": [],
   "source": [
    "import pandas as pd\n",
    "import numpy as np\n",
    "import matplotlib.pyplot as plt\n",
    "import tensorflow as tf\n",
    "from tensorflow import keras"
   ]
  },
  {
   "cell_type": "code",
   "execution_count": 2,
   "id": "b6f1b147-6835-4b21-a98a-422c9ee1dea7",
   "metadata": {},
   "outputs": [],
   "source": [
    "# Load Data\n",
    "(train_images, train_labels), (test_images, test_labels) = tf.keras.datasets.cifar10.load_data()"
   ]
  },
  {
   "cell_type": "code",
   "execution_count": 3,
   "id": "d55c9b4b-b76d-4cee-8916-2c10a030be12",
   "metadata": {},
   "outputs": [
    {
     "data": {
      "text/plain": [
       "(50000, 32, 32, 3)"
      ]
     },
     "execution_count": 3,
     "metadata": {},
     "output_type": "execute_result"
    }
   ],
   "source": [
    "train_images.shape"
   ]
  },
  {
   "cell_type": "markdown",
   "id": "60c551c7-d7dd-4ed3-9f23-caa8764c6a07",
   "metadata": {},
   "source": [
    "There are 50,000 training images, each being 32 by 32 pixels.\n",
    "For classification, I create a list to translate the one-hot encoding to labels."
   ]
  },
  {
   "cell_type": "code",
   "execution_count": 26,
   "id": "a8f95bd8-3985-4508-a4b8-d931bfcdaca4",
   "metadata": {},
   "outputs": [],
   "source": [
    "names = ['airplane', 'automobile', 'bird', 'cat', 'deer', 'dog', 'frog', 'horse', 'ship', 'truck']"
   ]
  },
  {
   "cell_type": "code",
   "execution_count": 9,
   "id": "6ec24afe-5e31-4721-aea4-7efab1720780",
   "metadata": {},
   "outputs": [
    {
     "data": {
      "image/png": "[encoded data removed]",
      "text/plain": [
       "<Figure size 432x288 with 2 Axes>"
      ]
     },
     "metadata": {
      "needs_background": "light"
     },
     "output_type": "display_data"
    }
   ],
   "source": [
    "# Example of an Image\n",
    "plt.figure()\n",
    "plt.imshow(train_images[3])\n",
    "plt.colorbar()\n",
    "plt.grid(False)\n",
    "plt.show()"
   ]
  },
  {
   "cell_type": "markdown",
   "id": "3a81a556-44b8-46ea-aa37-e0c297c3df34",
   "metadata": {},
   "source": [
    "### Data Preprocessing"
   ]
  },
  {
   "cell_type": "code",
   "execution_count": 10,
   "id": "63a89ba1-edfd-4869-bd88-1774f08b2b94",
   "metadata": {},
   "outputs": [],
   "source": [
    "# the pixel values right now are on a scale of 0-255. To make it easier to process for the neural network, \n",
    "# I reduce the scale to 0-1\n",
    "train_images = train_images / 255.0\n",
    "test_images = test_images / 255.0"
   ]
  },
  {
   "cell_type": "markdown",
   "id": "7cc51025-bf57-4bf3-9ac6-58f898d4c81e",
   "metadata": {},
   "source": [
    "## Multi-Layer Perceptron NN\n",
    "### Building the Model"
   ]
  },
  {
   "cell_type": "code",
   "execution_count": 54,
   "id": "d2152a0f-44c5-46a8-8b25-e1f04a312a37",
   "metadata": {},
   "outputs": [],
   "source": [
    "model = keras.Sequential([\n",
    "    keras.layers.Flatten(input_shape=(32, 32, 3)),  # input layer (1)\n",
    "    keras.layers.Dense(128, activation='relu'),  # hidden layer (2)\n",
    "    keras.layers.Dense(128, activation = 'relu'), # hidden layer (3)\n",
    "    keras.layers.Dense(10, activation='softmax') # output layer (5)\n",
    "])"
   ]
  },
  {
   "cell_type": "code",
   "execution_count": 55,
   "id": "4702c40c-baff-4f47-9a94-1cf8b78f8b16",
   "metadata": {},
   "outputs": [],
   "source": [
    "# compile the model\n",
    "model.compile(optimizer='adam',\n",
    "              loss='sparse_categorical_crossentropy',\n",
    "              metrics=['accuracy'])"
   ]
  },
  {
   "cell_type": "markdown",
   "id": "04f2df03-796a-463c-aeb0-c297d77b4473",
   "metadata": {},
   "source": [
    "### Running the Model"
   ]
  },
  {
   "cell_type": "code",
   "execution_count": 50,
   "id": "007180ce-aeeb-425f-8a14-ddf5c0750beb",
   "metadata": {},
   "outputs": [
    {
     "name": "stdout",
     "output_type": "stream",
     "text": [
      "Epoch 1/15\n",
      "1563/1563 [==============================] - 8s 5ms/step - loss: 1.8347 - accuracy: 0.3316\n",
      "Epoch 2/15\n",
      "1563/1563 [==============================] - 7s 5ms/step - loss: 1.6597 - accuracy: 0.4035\n",
      "Epoch 3/15\n",
      "1563/1563 [==============================] - 7s 5ms/step - loss: 1.5656 - accuracy: 0.4374\n",
      "Epoch 4/15\n",
      "1563/1563 [==============================] - 7s 5ms/step - loss: 1.5144 - accuracy: 0.4605\n",
      "Epoch 5/15\n",
      "1563/1563 [==============================] - 7s 5ms/step - loss: 1.4752 - accuracy: 0.4716\n",
      "Epoch 6/15\n",
      "1563/1563 [==============================] - 7s 5ms/step - loss: 1.4429 - accuracy: 0.4822\n",
      "Epoch 7/15\n",
      "1563/1563 [==============================] - 7s 5ms/step - loss: 1.4163 - accuracy: 0.4930\n",
      "Epoch 8/15\n",
      "1563/1563 [==============================] - 7s 5ms/step - loss: 1.3923 - accuracy: 0.5014\n",
      "Epoch 9/15\n",
      "1563/1563 [==============================] - 7s 5ms/step - loss: 1.3686 - accuracy: 0.5104\n",
      "Epoch 10/15\n",
      "1563/1563 [==============================] - 7s 5ms/step - loss: 1.3534 - accuracy: 0.5154\n",
      "Epoch 11/15\n",
      "1563/1563 [==============================] - 7s 5ms/step - loss: 1.3290 - accuracy: 0.5254\n",
      "Epoch 12/15\n",
      "1563/1563 [==============================] - 7s 5ms/step - loss: 1.3136 - accuracy: 0.5293\n",
      "Epoch 13/15\n",
      "1563/1563 [==============================] - 7s 5ms/step - loss: 1.2997 - accuracy: 0.5352\n",
      "Epoch 14/15\n",
      "1563/1563 [==============================] - 7s 5ms/step - loss: 1.2822 - accuracy: 0.5398\n",
      "Epoch 15/15\n",
      "1563/1563 [==============================] - 7s 5ms/step - loss: 1.2679 - accuracy: 0.5451\n"
     ]
    },
    {
     "data": {
      "text/plain": [
       "<keras.src.callbacks.History at 0x20ee3122fd0>"
      ]
     },
     "execution_count": 50,
     "metadata": {},
     "output_type": "execute_result"
    }
   ],
   "source": [
    "model.fit(train_images, train_labels, epochs=15)"
   ]
  },
  {
   "cell_type": "code",
   "execution_count": 51,
   "id": "845362f5-05f8-4522-9b49-443c77c10416",
   "metadata": {},
   "outputs": [
    {
     "name": "stdout",
     "output_type": "stream",
     "text": [
      "313/313 [==============================] - 1s 2ms/step - loss: 1.4219 - accuracy: 0.4989\n",
      "Test accuracy: 0.49889999628067017\n"
     ]
    }
   ],
   "source": [
    "test_loss, test_acc = model.evaluate(test_images,  test_labels, verbose=1) \n",
    "print('Test accuracy:', test_acc)"
   ]
  },
  {
   "cell_type": "code",
   "execution_count": 56,
   "id": "b5bde7df-9679-4069-a7e5-f5dd8caa631f",
   "metadata": {},
   "outputs": [
    {
     "name": "stdin",
     "output_type": "stream",
     "text": [
      "Pick a number:  3\n"
     ]
    },
    {
     "name": "stdout",
     "output_type": "stream",
     "text": [
      "1/1 [==============================] - 0s 37ms/step\n"
     ]
    },
    {
     "data": {
      "image/png": "[encoded data removed]",
      "text/plain": [
       "<Figure size 432x288 with 1 Axes>"
      ]
     },
     "metadata": {
      "needs_background": "light"
     },
     "output_type": "display_data"
    },
    {
     "name": "stdout",
     "output_type": "stream",
     "text": [
      "Expected:airplane\n",
      "Guess:frog\n"
     ]
    }
   ],
   "source": [
    "COLOR = 'white'\n",
    "plt.rcParams['text.color'] = COLOR\n",
    "plt.rcParams['axes.labelcolor'] = COLOR\n",
    "\n",
    "def predict(model, image, correct_label):\n",
    "    names = ['airplane', 'automobile', 'bird', 'cat', 'deer', 'dog', 'frog', 'horse', 'ship', 'truck']\n",
    "    prediction = model.predict(np.array([image]))\n",
    "    predicted_class = names[np.argmax(prediction)]\n",
    "\n",
    "    show_image(image, names[correct_label], predicted_class)\n",
    "\n",
    "\n",
    "def show_image(img, label, guess):\n",
    "    plt.figure()\n",
    "    plt.imshow(img, cmap=plt.cm.binary)\n",
    "    plt.xlabel(\"Guess: \" + guess)\n",
    "    plt.grid(False)\n",
    "    plt.show()\n",
    "    print('Expected:' + label)\n",
    "    print('Guess:' + guess)\n",
    "\n",
    "\n",
    "def get_number():\n",
    "    while True:\n",
    "        num = input(\"Pick a number: \")\n",
    "        if num.isdigit():\n",
    "            num = int(num)\n",
    "            if 0 <= num <= 1000:\n",
    "                return int(num)\n",
    "        else:\n",
    "            print(\"Try again...\")\n",
    "\n",
    "num = get_number()\n",
    "image = test_images[num]\n",
    "label = test_labels[num][0]\n",
    "predict(model, image, label)\n"
   ]
  },
  {
   "cell_type": "markdown",
   "id": "61b6cf65-2a09-492c-8181-77eaaf54ce23",
   "metadata": {},
   "source": [
    "# Convolutional Neural Network\n",
    "### Building the Model"
   ]
  },
  {
   "cell_type": "code",
   "execution_count": 58,
   "id": "befbceb6-b7e6-45b0-8ff0-97bbc956016f",
   "metadata": {},
   "outputs": [],
   "source": [
    "cnn = keras.Sequential([\n",
    "    keras.layers.Conv2D(32, (3, 3), activation='relu', input_shape=(32, 32, 3)),\n",
    "    keras.layers.MaxPooling2D((2, 2)),\n",
    "    keras.layers.Conv2D(64, (3, 3), activation='relu'),\n",
    "    keras.layers.MaxPooling2D((2, 2)),\n",
    "    keras.layers.Conv2D(64, (3, 3), activation='relu'),\n",
    "    keras.layers.Flatten(),\n",
    "    keras.layers.Dense(64, activation='relu'),\n",
    "    keras.layers.Dense(10, activation = 'softmax')\n",
    "])"
   ]
  },
  {
   "cell_type": "code",
   "execution_count": 59,
   "id": "96cd73be-54ed-4bd6-ad45-ca610f84d2d3",
   "metadata": {},
   "outputs": [],
   "source": [
    "# compile the model\n",
    "cnn.compile(optimizer='adam',\n",
    "              loss='sparse_categorical_crossentropy',\n",
    "              metrics=['accuracy'])"
   ]
  },
  {
   "cell_type": "code",
   "execution_count": 60,
   "id": "63931411-fb23-4fa0-818f-c30f57b1b8bf",
   "metadata": {},
   "outputs": [
    {
     "name": "stdout",
     "output_type": "stream",
     "text": [
      "Epoch 1/15\n",
      "1563/1563 [==============================] - 28s 18ms/step - loss: 1.5269 - accuracy: 0.4398\n",
      "Epoch 2/15\n",
      "1563/1563 [==============================] - 27s 17ms/step - loss: 1.1414 - accuracy: 0.5939\n",
      "Epoch 3/15\n",
      "1563/1563 [==============================] - 27s 17ms/step - loss: 0.9921 - accuracy: 0.6503\n",
      "Epoch 4/15\n",
      "1563/1563 [==============================] - 27s 17ms/step - loss: 0.8910 - accuracy: 0.6856\n",
      "Epoch 5/15\n",
      "1563/1563 [==============================] - 27s 18ms/step - loss: 0.8286 - accuracy: 0.7096\n",
      "Epoch 6/15\n",
      "1563/1563 [==============================] - 27s 17ms/step - loss: 0.7688 - accuracy: 0.7316\n",
      "Epoch 7/15\n",
      "1563/1563 [==============================] - 27s 18ms/step - loss: 0.7235 - accuracy: 0.7447\n",
      "Epoch 8/15\n",
      "1563/1563 [==============================] - 29s 18ms/step - loss: 0.6848 - accuracy: 0.7595\n",
      "Epoch 9/15\n",
      "1563/1563 [==============================] - 31s 20ms/step - loss: 0.6446 - accuracy: 0.7748\n",
      "Epoch 10/15\n",
      "1563/1563 [==============================] - 29s 19ms/step - loss: 0.6096 - accuracy: 0.7861\n",
      "Epoch 11/15\n",
      "1563/1563 [==============================] - 29s 19ms/step - loss: 0.5733 - accuracy: 0.7975\n",
      "Epoch 12/15\n",
      "1563/1563 [==============================] - 29s 19ms/step - loss: 0.5450 - accuracy: 0.8073\n",
      "Epoch 13/15\n",
      "1563/1563 [==============================] - 29s 19ms/step - loss: 0.5149 - accuracy: 0.8188\n",
      "Epoch 14/15\n",
      "1563/1563 [==============================] - 29s 19ms/step - loss: 0.4852 - accuracy: 0.8270\n",
      "Epoch 15/15\n",
      "1563/1563 [==============================] - 29s 19ms/step - loss: 0.4600 - accuracy: 0.8357\n"
     ]
    },
    {
     "data": {
      "text/plain": [
       "<keras.src.callbacks.History at 0x20ee50a4070>"
      ]
     },
     "execution_count": 60,
     "metadata": {},
     "output_type": "execute_result"
    }
   ],
   "source": [
    "cnn.fit(train_images, train_labels, epochs=15)"
   ]
  },
  {
   "cell_type": "markdown",
   "id": "e5d88a40-5756-4cec-9410-6c32f02f3aea",
   "metadata": {},
   "source": [
    "### Running the Model"
   ]
  },
  {
   "cell_type": "code",
   "execution_count": 63,
   "id": "d6346309-1517-4ed5-94e6-ba1314a08f00",
   "metadata": {},
   "outputs": [
    {
     "name": "stdout",
     "output_type": "stream",
     "text": [
      "313/313 [==============================] - 3s 8ms/step - loss: 1.0288 - accuracy: 0.7007\n",
      "Test accuracy: 0.7006999850273132\n"
     ]
    }
   ],
   "source": [
    "test_loss, test_acc = cnn.evaluate(test_images,  test_labels, verbose=1) \n",
    "print('Test accuracy:', test_acc)"
   ]
  },
  {
   "cell_type": "code",
   "execution_count": 76,
   "id": "c6de72bf-dffb-41ef-9ea7-4951a1d14aae",
   "metadata": {},
   "outputs": [
    {
     "name": "stdin",
     "output_type": "stream",
     "text": [
      "Pick a number:  100\n"
     ]
    },
    {
     "name": "stdout",
     "output_type": "stream",
     "text": [
      "1/1 [==============================] - 0s 124ms/step\n"
     ]
    },
    {
     "data": {
      "image/png": "[encoded data removed]",
      "text/plain": [
       "<Figure size 432x288 with 1 Axes>"
      ]
     },
     "metadata": {
      "needs_background": "light"
     },
     "output_type": "display_data"
    },
    {
     "name": "stdout",
     "output_type": "stream",
     "text": [
      "Expected:deer\n",
      "Guess:deer\n"
     ]
    }
   ],
   "source": [
    "def predict2(model, image, correct_label):\n",
    "    names = ['airplane', 'automobile', 'bird', 'cat', 'deer', 'dog', 'frog', 'horse', 'ship', 'truck']\n",
    "    prediction = model.predict(np.array([image]))\n",
    "    predicted_class = names[np.argmax(prediction)]\n",
    "\n",
    "    show_image(image, names[correct_label], predicted_class)\n",
    "num = get_number()\n",
    "image = test_images[num]\n",
    "label = test_labels[num][0]\n",
    "predict2(cnn, image, label)"
   ]
  }
 ],
 "metadata": {
  "kernelspec": {
   "display_name": "Python 3 (ipykernel)",
   "language": "python",
   "name": "python3"
  },
  "language_info": {
   "codemirror_mode": {
    "name": "ipython",
    "version": 3
   },
   "file_extension": ".py",
   "mimetype": "text/x-python",
   "name": "python",
   "nbconvert_exporter": "python",
   "pygments_lexer": "ipython3",
   "version": "3.9.12"
  }
 },
 "nbformat": 4,
 "nbformat_minor": 5
}
